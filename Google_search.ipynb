{
  "nbformat": 4,
  "nbformat_minor": 0,
  "metadata": {
    "colab": {
      "provenance": [],
      "authorship_tag": "ABX9TyNhq9Gl7e1RDxts0Uy5CA27",
      "include_colab_link": true
    },
    "kernelspec": {
      "name": "python3",
      "display_name": "Python 3"
    },
    "language_info": {
      "name": "python"
    }
  },
  "cells": [
    {
      "cell_type": "markdown",
      "metadata": {
        "id": "view-in-github",
        "colab_type": "text"
      },
      "source": [
        "<a href=\"https://colab.research.google.com/github/arashkhgit/Google-search/blob/main/Google_search.ipynb\" target=\"_parent\"><img src=\"https://colab.research.google.com/assets/colab-badge.svg\" alt=\"Open In Colab\"/></a>"
      ]
    },
    {
      "cell_type": "code",
      "source": [
        "!pip install beautifulsoup4"
      ],
      "metadata": {
        "colab": {
          "base_uri": "https://localhost:8080/"
        },
        "id": "dLLr3BLVgDP3",
        "outputId": "40cb4fda-4fb1-427a-945b-764ae9192766"
      },
      "execution_count": null,
      "outputs": [
        {
          "output_type": "stream",
          "name": "stdout",
          "text": [
            "Looking in indexes: https://pypi.org/simple, https://us-python.pkg.dev/colab-wheels/public/simple/\n",
            "Requirement already satisfied: beautifulsoup4 in /usr/local/lib/python3.10/dist-packages (4.11.2)\n",
            "Requirement already satisfied: soupsieve>1.2 in /usr/local/lib/python3.10/dist-packages (from beautifulsoup4) (2.4.1)\n"
          ]
        }
      ]
    },
    {
      "cell_type": "code",
      "source": [
        "!pip install google"
      ],
      "metadata": {
        "colab": {
          "base_uri": "https://localhost:8080/"
        },
        "id": "uuX90qHzgDgV",
        "outputId": "b39a2582-9988-47fc-fec1-d966ba942a71"
      },
      "execution_count": null,
      "outputs": [
        {
          "output_type": "stream",
          "name": "stdout",
          "text": [
            "Looking in indexes: https://pypi.org/simple, https://us-python.pkg.dev/colab-wheels/public/simple/\n",
            "Requirement already satisfied: google in /usr/local/lib/python3.10/dist-packages (2.0.3)\n",
            "Requirement already satisfied: beautifulsoup4 in /usr/local/lib/python3.10/dist-packages (from google) (4.11.2)\n",
            "Requirement already satisfied: soupsieve>1.2 in /usr/local/lib/python3.10/dist-packages (from beautifulsoup4->google) (2.4.1)\n"
          ]
        }
      ]
    },
    {
      "cell_type": "markdown",
      "source": [
        "Required Function and its parameters \n",
        "\n",
        "*   **query:** query string that we want to search for.\n",
        "*   **lang:** lang stands for language. \n",
        "*   **num:** Number of results we want.\n",
        "\n",
        "\n",
        "\n",
        "\n",
        "\n",
        "\n",
        "\n"
      ],
      "metadata": {
        "id": "rZL_LvuNhRVw"
      }
    },
    {
      "cell_type": "code",
      "source": [],
      "metadata": {
        "id": "Rg7FX82F3NHL"
      },
      "execution_count": null,
      "outputs": []
    },
    {
      "cell_type": "code",
      "source": [
        "from googlesearch import search\n",
        "import requests\n",
        "import re\n",
        "import csv\n",
        "import pandas as pd\n",
        "\n",
        "\n",
        "class Search:\n",
        "    def __init__(self):\n",
        "        self.sentence = None\n",
        "        self.result_number = None\n",
        "        self.result = 0\n",
        "        self.headers = []\n",
        "        self.final_result = []\n",
        "\n",
        "        self.File_Write_instance = CSVWriter(\"data.csv\")\n",
        "\n",
        "    \n",
        "    def get_input(self):\n",
        "        self.sentence = input(\"Enter a sentence: \")\n",
        "\n",
        "    def get_result_number(self):\n",
        "        self.result_number = int(input(\"Enter the result number: \"))\n",
        "\n",
        "    def searching(self):\n",
        "        self.result=list(search(self.sentence, tld=\"co.in\", num=self.result_number, stop=self.result_number, pause=2))\n",
        "\n",
        "\n",
        "        for i in range(self.result_number):\n",
        "         self.headers.append(len(re.findall(New.sentence, requests.get(self.result[i]).text)))\n",
        "\n",
        "        for i in range(self.result_number):\n",
        "         self.final_result.append([self.headers[i],self.result[i]])\n",
        "\n",
        "        return self.result \n",
        "\n",
        "\n",
        "    def run(self):\n",
        "        self.get_input()\n",
        "        self.get_result_number()\n",
        "        self.searching()\n",
        "        self.print_result()\n",
        "        self.File_Write_instance.write(self.final_result)\n",
        "        print(f\"Original sentence: {self.sentence}\")\n",
        "        print(f\"Custom function result: {self.result}\")\n",
        "        \n",
        "\n",
        "    def print_result(self):\n",
        "      for j in self.result:\n",
        "        print(j)\n",
        "\n",
        "\n",
        "class CSVWriter:\n",
        "    def __init__(self, filename, header=None):\n",
        "        self.filename = filename\n",
        "        self.header = header\n",
        "\n",
        "    def write(self, data):\n",
        "        with open(self.filename, 'w', newline='') as file:\n",
        "            writer = csv.writer(file)\n",
        "            for element in data:\n",
        "              writer.writerow([element])\n",
        "            #writer.writerow(data)\n",
        "        print(\"write csv file complete!\")\n",
        "\n",
        "class ListToDataFrame:\n",
        "  def __init__(self, list1, list2):\n",
        "      self.list1 = list1\n",
        "      self.list2 = list2\n",
        "\n",
        "  def to_dataframe(self):\n",
        "      df = pd.DataFrame({'Column1': self.list1, 'Column2': self.list2})\n",
        "      return df\n",
        "\n",
        "New = Search()\n",
        "New.run()\n",
        "\n"
      ],
      "metadata": {
        "colab": {
          "base_uri": "https://localhost:8080/"
        },
        "id": "BOEygRk_iaiw",
        "outputId": "4e85f908-fde1-40df-85b5-6b25375b7095"
      },
      "execution_count": null,
      "outputs": [
        {
          "output_type": "stream",
          "name": "stdout",
          "text": [
            "Enter a sentence: ibm\n",
            "Enter the result number: 5\n",
            "https://www.ibm.com/\n",
            "https://www.ibm.com/about\n",
            "https://www.ibm.com/careers/us-en/\n",
            "https://www.ibm.com/careers/us-en/search\n",
            "https://cloud.ibm.com/\n",
            "write csv file complete!\n",
            "Original sentence: ibm\n",
            "Custom function result: ['https://www.ibm.com/', 'https://www.ibm.com/about', 'https://www.ibm.com/careers/us-en/', 'https://www.ibm.com/careers/us-en/search', 'https://cloud.ibm.com/']\n"
          ]
        }
      ]
    },
    {
      "cell_type": "code",
      "source": [
        "new= ListToDataFrame(New.headers,New.result)"
      ],
      "metadata": {
        "id": "PLWfCpc93tvi"
      },
      "execution_count": null,
      "outputs": []
    },
    {
      "cell_type": "code",
      "source": [
        "new.to_dataframe()"
      ],
      "metadata": {
        "colab": {
          "base_uri": "https://localhost:8080/",
          "height": 206
        },
        "id": "AT9tdqH77-q7",
        "outputId": "48ccd092-59a4-4b20-f635-cc099132f44d"
      },
      "execution_count": null,
      "outputs": [
        {
          "output_type": "execute_result",
          "data": {
            "text/plain": [
              "   Column1                                   Column2\n",
              "0      433                      https://www.ibm.com/\n",
              "1     1771                 https://www.ibm.com/about\n",
              "2       72        https://www.ibm.com/careers/us-en/\n",
              "3       40  https://www.ibm.com/careers/us-en/search\n",
              "4        4                    https://cloud.ibm.com/"
            ],
            "text/html": [
              "\n",
              "  <div id=\"df-670f1368-6e56-4ae1-a9b1-31b81147087f\">\n",
              "    <div class=\"colab-df-container\">\n",
              "      <div>\n",
              "<style scoped>\n",
              "    .dataframe tbody tr th:only-of-type {\n",
              "        vertical-align: middle;\n",
              "    }\n",
              "\n",
              "    .dataframe tbody tr th {\n",
              "        vertical-align: top;\n",
              "    }\n",
              "\n",
              "    .dataframe thead th {\n",
              "        text-align: right;\n",
              "    }\n",
              "</style>\n",
              "<table border=\"1\" class=\"dataframe\">\n",
              "  <thead>\n",
              "    <tr style=\"text-align: right;\">\n",
              "      <th></th>\n",
              "      <th>Column1</th>\n",
              "      <th>Column2</th>\n",
              "    </tr>\n",
              "  </thead>\n",
              "  <tbody>\n",
              "    <tr>\n",
              "      <th>0</th>\n",
              "      <td>433</td>\n",
              "      <td>https://www.ibm.com/</td>\n",
              "    </tr>\n",
              "    <tr>\n",
              "      <th>1</th>\n",
              "      <td>1771</td>\n",
              "      <td>https://www.ibm.com/about</td>\n",
              "    </tr>\n",
              "    <tr>\n",
              "      <th>2</th>\n",
              "      <td>72</td>\n",
              "      <td>https://www.ibm.com/careers/us-en/</td>\n",
              "    </tr>\n",
              "    <tr>\n",
              "      <th>3</th>\n",
              "      <td>40</td>\n",
              "      <td>https://www.ibm.com/careers/us-en/search</td>\n",
              "    </tr>\n",
              "    <tr>\n",
              "      <th>4</th>\n",
              "      <td>4</td>\n",
              "      <td>https://cloud.ibm.com/</td>\n",
              "    </tr>\n",
              "  </tbody>\n",
              "</table>\n",
              "</div>\n",
              "      <button class=\"colab-df-convert\" onclick=\"convertToInteractive('df-670f1368-6e56-4ae1-a9b1-31b81147087f')\"\n",
              "              title=\"Convert this dataframe to an interactive table.\"\n",
              "              style=\"display:none;\">\n",
              "        \n",
              "  <svg xmlns=\"http://www.w3.org/2000/svg\" height=\"24px\"viewBox=\"0 0 24 24\"\n",
              "       width=\"24px\">\n",
              "    <path d=\"M0 0h24v24H0V0z\" fill=\"none\"/>\n",
              "    <path d=\"M18.56 5.44l.94 2.06.94-2.06 2.06-.94-2.06-.94-.94-2.06-.94 2.06-2.06.94zm-11 1L8.5 8.5l.94-2.06 2.06-.94-2.06-.94L8.5 2.5l-.94 2.06-2.06.94zm10 10l.94 2.06.94-2.06 2.06-.94-2.06-.94-.94-2.06-.94 2.06-2.06.94z\"/><path d=\"M17.41 7.96l-1.37-1.37c-.4-.4-.92-.59-1.43-.59-.52 0-1.04.2-1.43.59L10.3 9.45l-7.72 7.72c-.78.78-.78 2.05 0 2.83L4 21.41c.39.39.9.59 1.41.59.51 0 1.02-.2 1.41-.59l7.78-7.78 2.81-2.81c.8-.78.8-2.07 0-2.86zM5.41 20L4 18.59l7.72-7.72 1.47 1.35L5.41 20z\"/>\n",
              "  </svg>\n",
              "      </button>\n",
              "      \n",
              "  <style>\n",
              "    .colab-df-container {\n",
              "      display:flex;\n",
              "      flex-wrap:wrap;\n",
              "      gap: 12px;\n",
              "    }\n",
              "\n",
              "    .colab-df-convert {\n",
              "      background-color: #E8F0FE;\n",
              "      border: none;\n",
              "      border-radius: 50%;\n",
              "      cursor: pointer;\n",
              "      display: none;\n",
              "      fill: #1967D2;\n",
              "      height: 32px;\n",
              "      padding: 0 0 0 0;\n",
              "      width: 32px;\n",
              "    }\n",
              "\n",
              "    .colab-df-convert:hover {\n",
              "      background-color: #E2EBFA;\n",
              "      box-shadow: 0px 1px 2px rgba(60, 64, 67, 0.3), 0px 1px 3px 1px rgba(60, 64, 67, 0.15);\n",
              "      fill: #174EA6;\n",
              "    }\n",
              "\n",
              "    [theme=dark] .colab-df-convert {\n",
              "      background-color: #3B4455;\n",
              "      fill: #D2E3FC;\n",
              "    }\n",
              "\n",
              "    [theme=dark] .colab-df-convert:hover {\n",
              "      background-color: #434B5C;\n",
              "      box-shadow: 0px 1px 3px 1px rgba(0, 0, 0, 0.15);\n",
              "      filter: drop-shadow(0px 1px 2px rgba(0, 0, 0, 0.3));\n",
              "      fill: #FFFFFF;\n",
              "    }\n",
              "  </style>\n",
              "\n",
              "      <script>\n",
              "        const buttonEl =\n",
              "          document.querySelector('#df-670f1368-6e56-4ae1-a9b1-31b81147087f button.colab-df-convert');\n",
              "        buttonEl.style.display =\n",
              "          google.colab.kernel.accessAllowed ? 'block' : 'none';\n",
              "\n",
              "        async function convertToInteractive(key) {\n",
              "          const element = document.querySelector('#df-670f1368-6e56-4ae1-a9b1-31b81147087f');\n",
              "          const dataTable =\n",
              "            await google.colab.kernel.invokeFunction('convertToInteractive',\n",
              "                                                     [key], {});\n",
              "          if (!dataTable) return;\n",
              "\n",
              "          const docLinkHtml = 'Like what you see? Visit the ' +\n",
              "            '<a target=\"_blank\" href=https://colab.research.google.com/notebooks/data_table.ipynb>data table notebook</a>'\n",
              "            + ' to learn more about interactive tables.';\n",
              "          element.innerHTML = '';\n",
              "          dataTable['output_type'] = 'display_data';\n",
              "          await google.colab.output.renderOutput(dataTable, element);\n",
              "          const docLink = document.createElement('div');\n",
              "          docLink.innerHTML = docLinkHtml;\n",
              "          element.appendChild(docLink);\n",
              "        }\n",
              "      </script>\n",
              "    </div>\n",
              "  </div>\n",
              "  "
            ]
          },
          "metadata": {},
          "execution_count": 85
        }
      ]
    },
    {
      "cell_type": "code",
      "source": [],
      "metadata": {
        "id": "rgp4FK388BYD"
      },
      "execution_count": null,
      "outputs": []
    }
  ]
}